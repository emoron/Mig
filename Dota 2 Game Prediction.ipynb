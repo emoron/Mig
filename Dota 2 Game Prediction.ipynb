{
 "cells": [
  {
   "cell_type": "markdown",
   "metadata": {},
   "source": [
    "Hello Reddit and Facebook users! If you like this challenge check out the contest we are having this weekend: 20/20 Hack - May Qualifier\n",
    "\n",
    "Gabe and his 9 friends enjoy playing a video game called Defence of the Ancients. This game consists of two 5-player teams fighting each other on a virtual battlefield.\n",
    "\n",
    "Before the game starts, each player picks a virtual hero as their character from a pool of about 100 heroes. Each hero can only be picked by one player in a game. Gabe and his friends are very similar in skill-level, so the outcome of their games has some dependence on which heroes were chosen. Gabe wonders if he can predict the outcome of a game based on what heroes have been picked.\n",
    "\n",
    "Game Data \n",
    "Gabe has extensive records of past games between similar players. You can download this training data with the results of 15,000 games that Gabe has already played. You need to analyze the data to find trends about each hero. Hero names contain spaces, apostrophes, and hyphens.\n",
    "\n",
    "The data consists of 15,000 lines, each with 10 strings and one number all seperated by commas. On each line, the first 5 strings are the heroes picked by team 1, the second 5 strings are the heroes picked by the team 2, and the number at the end is the number of the team who won.\n",
    "\n",
    "Challenge \n",
    "In each of K games, you will be given the heroes picked by each team. Using the training data, can you predict which team will win based on the heroes that they have picked? You will be scored based on how many predictions you get right. You may access the trainingdata by reading from the file \"trainingdata.txt\".\n",
    "\n",
    "Input \n",
    "The first line will contain a single integer K, the number of games you need to predict. This is followed by K lines containing 10 comma separated strings of the 10 chosen heroes.\n",
    "\n",
    "Output \n",
    "For each game, output the number (1 or 2) of the team you think will win on a new line.\n",
    "\n",
    "Constraints\n",
    "\n",
    "1 ≤ K ≤ 3000\n",
    "\n",
    "Sample Input \n",
    "5\n",
    "Spectre,Nature's Prophet,Ogre Magi,Nyx Assassin,Kunkka,Lone Druid,Windrunner,Disruptor,Juggernaut,Naga Siren\n",
    "Windrunner,Medusa,Zeus,Shadow Fiend,Troll Warlord,Bounty Hunter,Pudge,Lycanthrope,Riki,Pugna\n",
    "Ogre Magi,Sniper,Rubick,Lifestealer,Treant Protector,Slardar,Lion,Shadow Fiend,Weaver,Nature's Prophet\n",
    "Sniper,Nyx Assassin,Lich,Axe,Necrolyte,Magnus,Juggernaut,Dazzle,Tinker,Nature's Prophet\n",
    "Lina,Nature's Prophet,Chaos Knight,Gyrocopter,Invoker,Sven,Broodmother,Necrolyte,Undying,Windrunner\n",
    "\n",
    "Sample Output \n",
    "1\n",
    "1\n",
    "1\n",
    "1\n",
    "1\n",
    "\n",
    "Scoring \n",
    "Your score for this challenge will based on what percentage of your predictions are correct, according to this formula:\n",
    "\n",
    "Score = 100 * ((#correct - #incorrect) / total)\n",
    "\n",
    "If you are are correct for less than half the games, you will receive a score of 0. Your score will only be based on the second (hidden) test case. The sample test case is just for checking if your program is working as intended in our environment.\n",
    "\n",
    "[https://s3.amazonaws.com/hr-testcases/368/assets/trainingdata.txt]"
   ]
  },
  {
   "cell_type": "code",
   "execution_count": null,
   "metadata": {
    "collapsed": true
   },
   "outputs": [],
   "source": []
  }
 ],
 "metadata": {
  "kernelspec": {
   "display_name": "Python 2",
   "language": "python",
   "name": "python2"
  },
  "language_info": {
   "codemirror_mode": {
    "name": "ipython",
    "version": 2
   },
   "file_extension": ".py",
   "mimetype": "text/x-python",
   "name": "python",
   "nbconvert_exporter": "python",
   "pygments_lexer": "ipython2",
   "version": "2.7.13"
  }
 },
 "nbformat": 4,
 "nbformat_minor": 2
}
