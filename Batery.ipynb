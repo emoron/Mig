{
 "cells": [
  {
   "cell_type": "markdown",
   "metadata": {
    "hideCode": true,
    "hidePrompt": true
   },
   "source": [
    "Fred is a very predictable man. For instance, when he uses his laptop, all he does is watch TV shows. He always watches until his battery dies. He is also a very meticulous man. He has kept logs of every time he has charged his laptop, which includes how long he charged his laptop for and how long he was able to watch TV for afterwards. Now, Fred wants to use this log to predict how long he will be able to watch TV for when he starts so that he can plan his activites after watching his TV shows accordingly.\n",
    "\n",
    "Challenge\n",
    "\n",
    "You will be able to access Fred’s laptop charging log by reading from the file “trainingdata.txt”. The training data file will consist of 100 lines, each with 2 comma-separated numbers. The first number denotes the amount of time the laptop was charged and the second denotes the amount of time the battery lasted. The training data file can be downloaded here (this will be the same training data used when your program is run). The input for each of the test cases will consist of exactly 1 number rounded to 2 decimal places. For each input, output 1 number: the amount of time you predict his battery will last.\n",
    "\n",
    "[Archivo de Datos](https://www.hackerrank.com/external_redirect?to=https://s3.amazonaws.com/hr-testcases/399/assets/trainingdata.txt)"
   ]
  },
  {
   "cell_type": "code",
   "execution_count": 7,
   "metadata": {
    "collapsed": false
   },
   "outputs": [
    {
     "name": "stdout",
     "output_type": "stream",
     "text": [
      "[[ 2.81  5.62]\n",
      " [ 7.14  8.  ]\n",
      " [ 2.72  5.44]\n",
      " [ 3.87  7.74]\n",
      " [ 1.9   3.8 ]\n",
      " [ 7.82  8.  ]\n",
      " [ 7.02  8.  ]\n",
      " [ 5.5   8.  ]\n",
      " [ 9.15  8.  ]\n",
      " [ 4.87  8.  ]]\n"
     ]
    }
   ],
   "source": [
    "import scipy as sp\n",
    "import matplotlib.pyplot as plt\n",
    "\n",
    "data = sp.genfromtxt(\"trainingdata.txt\",delimiter=\",\")\n",
    "print data[:10]\n"
   ]
  },
  {
   "cell_type": "code",
   "execution_count": 14,
   "metadata": {
    "collapsed": false
   },
   "outputs": [
    {
     "data": {
      "image/png": "[encoded data removed]",
      "text/plain": [
       "<matplotlib.figure.Figure at 0xaf4da60c>"
      ]
     },
     "metadata": {},
     "output_type": "display_data"
    }
   ],
   "source": [
    "x = data[:,0]\n",
    "y = data[:,1]\n",
    "plt.scatter(x,y,s=10)\n",
    "plt.show()"
   ]
  },
  {
   "cell_type": "code",
   "execution_count": 20,
   "metadata": {
    "collapsed": false
   },
   "outputs": [
    {
     "name": "stdout",
     "output_type": "stream",
     "text": [
      "Model Parameters [ 0.72955585  2.87054111]\n",
      "Residuales [ 186.48959642]\n",
      " \n",
      "0.7296 x + 2.871 [  2.81   7.14   2.72   3.87   1.9    7.82   7.02   5.5    9.15   4.87\n",
      "   8.08   5.58   9.13   0.14   2.     5.47   0.8    4.37   5.31   0.     1.78\n",
      "   3.45   6.13   3.53   4.61   1.76   6.39   0.02   9.69   5.33   6.37\n",
      "   5.55   7.8    2.06   7.79   2.24   9.71   1.11   8.38   2.33   1.83\n",
      "   5.94   9.2    1.14   4.15   8.43   5.68   8.21   1.75   2.16   4.93\n",
      "   5.75   1.26   3.97   4.39   7.53   1.98   1.66   2.04  11.72   4.64\n",
      "   4.71   3.77   9.33   1.83   2.15   1.58   9.29   1.27   8.49   5.39\n",
      "   3.47   6.48   4.11   1.85   8.79   0.13   1.44   5.96   3.42   1.89\n",
      "   1.98   5.26   0.39   6.05   1.99   1.58   3.99   4.35   6.71   2.58\n",
      "   7.37   5.77   3.97   3.65   4.38   8.06   8.05   1.1    6.65] [ 5.62  8.    5.44  7.74  3.8   8.    8.    8.    8.    8.    8.    8.    8.\n",
      "  0.28  4.    8.    1.6   8.    8.    0.    3.56  6.9   8.    7.06  8.\n",
      "  3.52  8.    0.04  8.    8.    8.    8.    8.    4.12  8.    4.48  8.\n",
      "  2.22  8.    4.66  3.66  8.    8.    2.28  8.    8.    8.    8.    3.5\n",
      "  4.32  8.    8.    2.52  7.94  8.    8.    3.96  3.32  4.08  8.    8.    8.\n",
      "  7.54  8.    3.66  4.3   3.16  8.    2.54  8.    8.    6.94  8.    8.    3.7\n",
      "  8.    0.26  2.88  8.    6.84  3.78  3.96  8.    0.78  8.    3.98  3.16\n",
      "  7.98  8.    8.    5.16  8.    8.    7.94  7.3   8.    8.    8.    2.2   8.  ]\n"
     ]
    }
   ],
   "source": [
    "fp1, residuals, rank, sv, rcond = sp.polyfit(x,y,1,full=True)\n",
    "print \"Model Parameters\",fp1\n",
    "print \"Residuales\",residuals\n",
    "f1 = sp.poly1d(fp1)\n",
    "print f1,x,y"
   ]
  },
  {
   "cell_type": "code",
   "execution_count": null,
   "metadata": {
    "collapsed": true,
    "hideCode": true,
    "hidePrompt": true
   },
   "outputs": [],
   "source": []
  }
 ],
 "metadata": {
  "hide_code_all_hidden": true,
  "kernelspec": {
   "display_name": "Python 2",
   "language": "python",
   "name": "python2"
  },
  "language_info": {
   "codemirror_mode": {
    "name": "ipython",
    "version": 2
   },
   "file_extension": ".py",
   "mimetype": "text/x-python",
   "name": "python",
   "nbconvert_exporter": "python",
   "pygments_lexer": "ipython2",
   "version": "2.7.13"
  }
 },
 "nbformat": 4,
 "nbformat_minor": 2
}
