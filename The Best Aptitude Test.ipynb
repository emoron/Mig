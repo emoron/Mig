{
 "cells": [
  {
   "cell_type": "markdown",
   "metadata": {},
   "source": [
    "A college admits students on the basis of their scores in a series of 5 aptitude tests. The academic performance of the admitted students is then tracked, and when they complete the first year of their academic program in college, their Grade Point Average (GPA) is recorded. A student's GPA is an indicator of his/her academic performance. Higher the GPA, the better. This exercise is conducted on one batch of students. Absolute GPA is used for this problem.\n",
    "\n",
    "The next year, the college realizes that it does not have the necessary resources to conduct all 5 aptitude tests, it decides to conduct only 1 of the 5 tests. Which of the aptitude tests would you recommend them to conduct for the next round of admissions?\n",
    "\n",
    "You are given the recorded data. Identify the aptitude test which has clearly the best predictive value in determining the relative academic standing of the students after they enter the college.\n",
    "\n",
    "Input Format\n",
    "\n",
    "The 1st line in the file is an integer T, T testcases follow. \n",
    "Each testcase has 7 lines.\n",
    "\n",
    "The 1st line of every testcase contains the number of admitted students, N. \n",
    "The 2nd line of every testcase has N decimal numbers (upto 2 decimal places) separated by a single space which are the Grade Point Averages (GPAs) of the admitted students at the end of the 1st academic year. The ith score, is the GPA of the ith student at the end of the 1st year. \n",
    "This next 5 lines of every testcase has N decimal numbers ( upto 2 decimal places) separated by a single space in each line, which is the performance of the students in the 5 aptitude tests conducted for the entrance exam. The ith integer in each line, is what the ith student scored in that aptitude test.\n",
    "\n",
    "Constraints\n",
    "\n",
    "1 <= T <= 10 \n",
    "4 <= N <= 100 \n",
    "0.0 <= k <= 10.0, where k is the GPA of every student. \n",
    "0.0 <= s <= 100.0, where s is the score of every student in any of the 5 aptitude tests.\n",
    "\n",
    "Output Format\n",
    "\n",
    "T integers, each on a new line. \n",
    "For each test case, output the Aptitude Test (1-5) which appears to be the best predictor of the relative academic standing of the students after they enter the college.\n",
    "\n",
    "Sample Input\n",
    "\n",
    "```\n",
    "1\n",
    "5\n",
    "7.5 7.7 7.9 8.1 8.3\n",
    "10 30 20 40 50\n",
    "11 9 5 19 29\n",
    "21 9 15 19 39\n",
    "91 9 75 19 89\n",
    "81 99 55 59 89\n",
    "```\n",
    "\n",
    "Example Output\n",
    "\n",
    "1\n",
    "Explanation\n",
    "\n",
    "In the given example, we can see that the ranks of the students, on the basis of their 1st year GPA; \"matches quite well\" with their relative standings in the first aptitude test (in which their scores were 10,30,20,40 50). You need to identify how you can quantify how well the relative standings in an aptitude test match with the relative standings of the GPA.\n",
    "\n",
    "Assume that for each test case provided, there is one aptitude test, the scores in which, appear to be be good predictors of the academic performance of the students in college (measured by GPA). The other aptitude tests do not seem to have much predictive value, and can be done away with.\n",
    "\n",
    "Scoring\n",
    "\n",
    "Score for a test case = 10 * C/T \n",
    "Where T = Number of Tests And C = Correct Answers\n",
    "\n",
    "Please note, that there is no perfect solution to this open-ended problem. Any solution scoring 80% or above, of the maximum score, is a commendable achievement."
   ]
  }
 ],
 "metadata": {
  "kernelspec": {
   "display_name": "Python 2",
   "language": "python",
   "name": "python2"
  },
  "language_info": {
   "codemirror_mode": {
    "name": "ipython",
    "version": 2
   },
   "file_extension": ".py",
   "mimetype": "text/x-python",
   "name": "python",
   "nbconvert_exporter": "python",
   "pygments_lexer": "ipython2",
   "version": "2.7.13"
  }
 },
 "nbformat": 4,
 "nbformat_minor": 2
}
