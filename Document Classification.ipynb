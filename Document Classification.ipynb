{
 "cells": [
  {
   "cell_type": "markdown",
   "metadata": {},
   "source": [
    "You have been given a stack of documents that have already been processed and some that have not. Your task is to classify these documents into one of eight categories: [1,2,3,...8]. You look at the specifications on what a document must contain and are baffled by the jargon. However, you notice that you already have a large amount of documents which have already been correctly categorize (training data). You decide to use Machine Learning on this data in order to categorize the uncategorized documents.\n",
    "\n",
    "Training Data\n",
    "\n",
    "In order to figure out what category each document should fall under you will base it on the categories of the documents in the \"trainingdata.txt\" file. This file will be included with your program at runtime and will be named \"trainingdata.txt\".\n",
    "\n",
    "The file is formatted as follows:\n",
    "\n",
    "The first line contains the number of lines that will follow.\n",
    "\n",
    "Each following line will contain a number (1-8), which is the category number. The number will be followed by a space then some space seperated words which is the processed document.\n",
    "\n",
    "Input\n",
    "\n",
    "The first line in the input file will contain T the number of documents. T lines will follow each containing a series of space seperated words which represents the processed document.\n",
    "\n",
    "Output\n",
    "\n",
    "For each document output a number between 1-8 which you believe this document should be categorized as.\n",
    "\n",
    "Sample Input\n",
    "\n",
    "3 \n",
    "This is a document \n",
    "this is another document \n",
    "documents are seperated by newlines\n",
    "\n",
    "Sample Output\n",
    "\n",
    "1 \n",
    "4 \n",
    "8\n",
    "\n",
    "Scoring\n",
    "\n",
    "Your score for this challenge will be 100* (#correctly categorized - #incorrectly categorized)/(T)."
   ]
  },
  {
   "cell_type": "code",
   "execution_count": null,
   "metadata": {
    "collapsed": true
   },
   "outputs": [],
   "source": []
  }
 ],
 "metadata": {
  "kernelspec": {
   "display_name": "Python 2",
   "language": "python",
   "name": "python2"
  },
  "language_info": {
   "codemirror_mode": {
    "name": "ipython",
    "version": 2
   },
   "file_extension": ".py",
   "mimetype": "text/x-python",
   "name": "python",
   "nbconvert_exporter": "python",
   "pygments_lexer": "ipython2",
   "version": "2.7.13"
  }
 },
 "nbformat": 4,
 "nbformat_minor": 2
}
